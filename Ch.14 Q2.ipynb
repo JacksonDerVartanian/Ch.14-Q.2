{
  "metadata": {
    "kernelspec": {
      "name": "python",
      "display_name": "Python (Pyodide)",
      "language": "python"
    },
    "language_info": {
      "codemirror_mode": {
        "name": "python",
        "version": 3
      },
      "file_extension": ".py",
      "mimetype": "text/x-python",
      "name": "python",
      "nbconvert_exporter": "python",
      "pygments_lexer": "ipython3",
      "version": "3.8"
    }
  },
  "nbformat_minor": 4,
  "nbformat": 4,
  "cells": [
    {
      "cell_type": "code",
      "source": "import sqlite3\n\n# Function to create the database and table\ndef create_database():\n    connection = sqlite3.connect(\"phonebook.db\")\n    cursor = connection.cursor()\n\n    # Create Entries table\n    cursor.execute('''\n        CREATE TABLE IF NOT EXISTS Entries (\n            id INTEGER PRIMARY KEY AUTOINCREMENT,\n            name TEXT NOT NULL,\n            phone_number TEXT NOT NULL\n        )\n    ''')\n\n    connection.commit()\n    connection.close()\n\n# Function to add a new entry to the phonebook\ndef add_entry(name, phone_number):\n    connection = sqlite3.connect(\"phonebook.db\")\n    cursor = connection.cursor()\n\n    cursor.execute(\"INSERT INTO Entries (name, phone_number) VALUES (?, ?)\", (name, phone_number))\n\n    connection.commit()\n    connection.close()\n\n# Function to look up a person's phone number\ndef lookup_entry(name):\n    connection = sqlite3.connect(\"phonebook.db\")\n    cursor = connection.cursor()\n\n    cursor.execute(\"SELECT phone_number FROM Entries WHERE name=?\", (name,))\n    result = cursor.fetchone()\n\n    connection.close()\n\n    if result:\n        return result[0]\n    else:\n        return \"Entry not found.\"\n\n# Function to update a person's phone number\ndef update_entry(name, new_phone_number):\n    connection = sqlite3.connect(\"phonebook.db\")\n    cursor = connection.cursor()\n\n    cursor.execute(\"UPDATE Entries SET phone_number=? WHERE name=?\", (new_phone_number, name))\n\n    connection.commit()\n    connection.close()\n\n# Function to delete a specified row\ndef delete_entry(name):\n    connection = sqlite3.connect(\"phonebook.db\")\n    cursor = connection.cursor()\n\n    cursor.execute(\"DELETE FROM Entries WHERE name=?\", (name,))\n\n    connection.commit()\n    connection.close()\n\n# Main program\ncreate_database()\n\nwhile True:\n    print(\"\\nPhonebook Menu:\")\n    print(\"1. Add Entry\")\n    print(\"2. Look Up Entry\")\n    print(\"3. Update Entry\")\n    print(\"4. Delete Entry\")\n    print(\"5. Exit\")\n\n    choice = input(\"Enter your choice (1-5): \")\n\n    if choice == \"1\":\n        name = input(\"Enter name: \")\n        phone_number = input(\"Enter phone number: \")\n        add_entry(name, phone_number)\n    elif choice == \"2\":\n        name = input(\"Enter name to look up: \")\n        result = lookup_entry(name)\n        print(f\"Phone number: {result}\")\n    elif choice == \"3\":\n        name = input(\"Enter name to update: \")\n        new_phone_number = input(\"Enter new phone number: \")\n        update_entry(name, new_phone_number)\n    elif choice == \"4\":\n        name = input(\"Enter name to delete: \")\n        delete_entry(name)\n    elif choice == \"5\":\n        print(\"Exiting program. Goodbye!\")\n        break\n    else:\n        print(\"Invalid choice. Please enter a number between 1 and 5.\")\n        ",
      "metadata": {
        "trusted": true
      },
      "outputs": [],
      "execution_count": null
    }
  ]
}